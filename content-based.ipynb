{
 "cells": [
  {
   "cell_type": "code",
   "execution_count": 2,
   "metadata": {},
   "outputs": [],
   "source": [
    "import tensorflow as tf\n",
    "import numpy as np\n",
    "import pandas as pd\n",
    "from transformers import BertTokenizer, TFBertModel\n",
    "from sklearn.metrics.pairwise import cosine_similarity"
   ]
  },
  {
   "cell_type": "code",
   "execution_count": 3,
   "metadata": {},
   "outputs": [
    {
     "name": "stderr",
     "output_type": "stream",
     "text": [
      "2023-11-20 20:16:22.734023: I metal_plugin/src/device/metal_device.cc:1154] Metal device set to: Apple M1\n",
      "2023-11-20 20:16:22.734048: I metal_plugin/src/device/metal_device.cc:296] systemMemory: 8.00 GB\n",
      "2023-11-20 20:16:22.734060: I metal_plugin/src/device/metal_device.cc:313] maxCacheSize: 2.67 GB\n",
      "2023-11-20 20:16:22.734272: I tensorflow/core/common_runtime/pluggable_device/pluggable_device_factory.cc:306] Could not identify NUMA node of platform GPU ID 0, defaulting to 0. Your kernel may not have been built with NUMA support.\n",
      "2023-11-20 20:16:22.734525: I tensorflow/core/common_runtime/pluggable_device/pluggable_device_factory.cc:272] Created TensorFlow device (/job:localhost/replica:0/task:0/device:GPU:0 with 0 MB memory) -> physical PluggableDevice (device: 0, name: METAL, pci bus id: <undefined>)\n",
      "All model checkpoint layers were used when initializing TFBertModel.\n",
      "\n",
      "All the layers of TFBertModel were initialized from the model checkpoint at sentence-transformers/all-MiniLM-L6-v2.\n",
      "If your task is similar to the task the model of the checkpoint was trained on, you can already use TFBertModel for predictions without further training.\n"
     ]
    }
   ],
   "source": [
    "tokenizer = BertTokenizer.from_pretrained(\"sentence-transformers/all-MiniLM-L6-v2\")\n",
    "model = TFBertModel.from_pretrained(\"sentence-transformers/all-MiniLM-L6-v2\")"
   ]
  },
  {
   "cell_type": "code",
   "execution_count": 4,
   "metadata": {},
   "outputs": [],
   "source": [
    "vacancy_data = pd.read_csv('data/job_list_all.csv')"
   ]
  },
  {
   "cell_type": "markdown",
   "metadata": {},
   "source": [
    "### Select Features from the Vacancy Data"
   ]
  },
  {
   "cell_type": "markdown",
   "metadata": {},
   "source": [
    "Selected Feature from Vacancy Data that will be used in the recommendation system:\n",
    "- Job Title\n",
    "- Skills Requiered"
   ]
  },
  {
   "cell_type": "code",
   "execution_count": 5,
   "metadata": {},
   "outputs": [],
   "source": [
    "job_title = vacancy_data['Job_title']\n",
    "skill_required = vacancy_data['Skills'].fillna('')"
   ]
  },
  {
   "cell_type": "code",
   "execution_count": 6,
   "metadata": {},
   "outputs": [
    {
     "data": {
      "text/html": [
       "<div>\n",
       "<style scoped>\n",
       "    .dataframe tbody tr th:only-of-type {\n",
       "        vertical-align: middle;\n",
       "    }\n",
       "\n",
       "    .dataframe tbody tr th {\n",
       "        vertical-align: top;\n",
       "    }\n",
       "\n",
       "    .dataframe thead th {\n",
       "        text-align: right;\n",
       "    }\n",
       "</style>\n",
       "<table border=\"1\" class=\"dataframe\">\n",
       "  <thead>\n",
       "    <tr style=\"text-align: right;\">\n",
       "      <th></th>\n",
       "      <th>Job_title</th>\n",
       "      <th>Skills</th>\n",
       "    </tr>\n",
       "  </thead>\n",
       "  <tbody>\n",
       "    <tr>\n",
       "      <th>0</th>\n",
       "      <td>Perawat</td>\n",
       "      <td>Dapat Berkomunikasi Secara Baik, Berorientasi ...</td>\n",
       "    </tr>\n",
       "    <tr>\n",
       "      <th>1</th>\n",
       "      <td>Sales Sosial Media</td>\n",
       "      <td>NaN</td>\n",
       "    </tr>\n",
       "    <tr>\n",
       "      <th>2</th>\n",
       "      <td>Fashion Designer</td>\n",
       "      <td>Trend Forecasting, Pattern Making, Fashion Sty...</td>\n",
       "    </tr>\n",
       "    <tr>\n",
       "      <th>3</th>\n",
       "      <td>RPA Software Developer (UIPATH)</td>\n",
       "      <td>NaN</td>\n",
       "    </tr>\n",
       "    <tr>\n",
       "      <th>4</th>\n",
       "      <td>SEO Specialist</td>\n",
       "      <td>Search Engine Optimization (SEO), Seo/sem, SEO...</td>\n",
       "    </tr>\n",
       "    <tr>\n",
       "      <th>...</th>\n",
       "      <td>...</td>\n",
       "      <td>...</td>\n",
       "    </tr>\n",
       "    <tr>\n",
       "      <th>2965</th>\n",
       "      <td>Sales Executive</td>\n",
       "      <td>NaN</td>\n",
       "    </tr>\n",
       "    <tr>\n",
       "      <th>2966</th>\n",
       "      <td>Drafter</td>\n",
       "      <td>2D &amp; 3D Drafter, Construction, Arsitek &amp; Draft...</td>\n",
       "    </tr>\n",
       "    <tr>\n",
       "      <th>2967</th>\n",
       "      <td>3D Animator</td>\n",
       "      <td>Character Animation, Target Oriented, 3D Animator</td>\n",
       "    </tr>\n",
       "    <tr>\n",
       "      <th>2968</th>\n",
       "      <td>Crew Outlet</td>\n",
       "      <td>Jujur, teliti, dan rajin, Bekerja Sama Secara ...</td>\n",
       "    </tr>\n",
       "    <tr>\n",
       "      <th>2969</th>\n",
       "      <td>Senior Transfer Pricing Consultant</td>\n",
       "      <td>Transfer Pricing Tax, International Tax, Trans...</td>\n",
       "    </tr>\n",
       "  </tbody>\n",
       "</table>\n",
       "<p>2970 rows × 2 columns</p>\n",
       "</div>"
      ],
      "text/plain": [
       "                               Job_title  \\\n",
       "0                                Perawat   \n",
       "1                     Sales Sosial Media   \n",
       "2                       Fashion Designer   \n",
       "3        RPA Software Developer (UIPATH)   \n",
       "4                         SEO Specialist   \n",
       "...                                  ...   \n",
       "2965                     Sales Executive   \n",
       "2966                             Drafter   \n",
       "2967                         3D Animator   \n",
       "2968                         Crew Outlet   \n",
       "2969  Senior Transfer Pricing Consultant   \n",
       "\n",
       "                                                 Skills  \n",
       "0     Dapat Berkomunikasi Secara Baik, Berorientasi ...  \n",
       "1                                                   NaN  \n",
       "2     Trend Forecasting, Pattern Making, Fashion Sty...  \n",
       "3                                                   NaN  \n",
       "4     Search Engine Optimization (SEO), Seo/sem, SEO...  \n",
       "...                                                 ...  \n",
       "2965                                                NaN  \n",
       "2966  2D & 3D Drafter, Construction, Arsitek & Draft...  \n",
       "2967  Character Animation, Target Oriented, 3D Animator  \n",
       "2968  Jujur, teliti, dan rajin, Bekerja Sama Secara ...  \n",
       "2969  Transfer Pricing Tax, International Tax, Trans...  \n",
       "\n",
       "[2970 rows x 2 columns]"
      ]
     },
     "execution_count": 6,
     "metadata": {},
     "output_type": "execute_result"
    }
   ],
   "source": [
    "vacancy_data[['Job_title', 'Skills']]"
   ]
  },
  {
   "cell_type": "markdown",
   "metadata": {},
   "source": [
    "### Generate Embedding Vector from Vacancy Data Features"
   ]
  },
  {
   "cell_type": "markdown",
   "metadata": {},
   "source": [
    "Job Title"
   ]
  },
  {
   "cell_type": "code",
   "execution_count": 7,
   "metadata": {},
   "outputs": [
    {
     "name": "stdout",
     "output_type": "stream",
     "text": [
      "tf.Tensor(\n",
      "[[ 0.09893861  0.6709868  -0.05763523 ... -0.09025701 -0.05610005\n",
      "   0.09990735]\n",
      " [ 0.06790408  0.29846144 -0.03877079 ... -0.05968623 -0.20636159\n",
      "   0.39817366]\n",
      " [-0.18341003  0.81219375  0.13489076 ... -0.6137716  -0.19563222\n",
      "   0.21891122]\n",
      " ...\n",
      " [-0.33673918  0.46139348  0.12747812 ... -0.16478837 -0.06735568\n",
      "   0.23283784]\n",
      " [ 0.10142635  0.6584376   0.13544369 ...  0.1945655   0.37138313\n",
      "   0.26483524]\n",
      " [-0.02047656  0.60060596 -0.08322085 ... -0.25413296  0.06816447\n",
      "   0.35279298]], shape=(2970, 384), dtype=float32)\n"
     ]
    }
   ],
   "source": [
    "job_title_embedding = tokenizer(list(job_title), padding=True, truncation=True, return_tensors=\"tf\")\n",
    "\n",
    "job_title_output = model(**job_title_embedding)\n",
    "job_title_embedding = tf.reduce_mean(job_title_output.last_hidden_state, axis=1)\n",
    "\n",
    "print(job_title_embedding)"
   ]
  },
  {
   "cell_type": "markdown",
   "metadata": {},
   "source": [
    "### User Dataset"
   ]
  },
  {
   "cell_type": "code",
   "execution_count": 16,
   "metadata": {},
   "outputs": [],
   "source": [
    "user_data = pd.read_csv('data/user_data.csv')\n"
   ]
  },
  {
   "cell_type": "markdown",
   "metadata": {},
   "source": [
    "### Select Features from the User Data"
   ]
  },
  {
   "cell_type": "markdown",
   "metadata": {},
   "source": [
    "Selected Feature from User Data that will be used in the recommendation system:\n",
    "- Summary\n",
    "- Specialities\n",
    "- Preference"
   ]
  },
  {
   "cell_type": "code",
   "execution_count": 17,
   "metadata": {},
   "outputs": [
    {
     "name": "stdout",
     "output_type": "stream",
     "text": [
      "Preference    Screenwriter, Film Producer\n",
      "Name: 39, dtype: object\n"
     ]
    }
   ],
   "source": [
    "preference = user_data.loc[39,['Preference']].fillna('')\n",
    "print(preference)"
   ]
  },
  {
   "cell_type": "code",
   "execution_count": 12,
   "metadata": {},
   "outputs": [
    {
     "name": "stdout",
     "output_type": "stream",
     "text": [
      "Specialities      Pyhton, Machine Learning, Front-end Engineering\n",
      "Preference      Machine Learning Engineer, Data Engineer, AI E...\n",
      "Name: 0, dtype: object\n",
      "Pyhton, Machine Learning, Front-end Engineering, Machine Learning Engineer, Data Engineer, AI Engineer\n"
     ]
    }
   ],
   "source": [
    "'''\n",
    "summary = user_data['Summary'].fillna('')\n",
    "specialities = user_data['Specialities'].fillna('')\n",
    "preference = user_data['Preference'].fillna('')\n",
    "'''\n",
    "user_data_pivot = user_data.loc[0, ['Specialities', 'Preference']].fillna('')\n",
    "user_data_text = ', '.join(user_data_pivot)\n",
    "print(user_data_pivot)\n",
    "print(user_data_text)"
   ]
  },
  {
   "cell_type": "markdown",
   "metadata": {},
   "source": [
    "### Generate Embedding Vector from User Data Features"
   ]
  },
  {
   "cell_type": "code",
   "execution_count": 18,
   "metadata": {},
   "outputs": [
    {
     "name": "stdout",
     "output_type": "stream",
     "text": [
      "tf.Tensor(\n",
      "[[-3.18766922e-01 -2.05217168e-01 -1.48510754e-01  3.17142725e-01\n",
      "  -1.86311170e-01  1.98808908e-01  3.02221477e-01  1.82692513e-01\n",
      "   4.14625168e-01  6.83556795e-02  7.62336999e-02 -1.74791798e-01\n",
      "  -1.26591414e-01  5.23503534e-02 -6.57366991e-01  1.28093228e-01\n",
      "  -9.11315531e-02 -1.78633141e-03  3.28003019e-02 -7.52546549e-01\n",
      "  -2.20756143e-01  1.52366757e-01  1.63122043e-01  5.78575991e-02\n",
      "   4.30588216e-01 -3.72516006e-01  3.33673954e-02  1.27522081e-01\n",
      "  -3.71765316e-01 -3.51653516e-01 -4.16352749e-01  2.68474191e-01\n",
      "   1.21864140e-01 -2.31091380e-01  2.32149839e-01  8.75296816e-02\n",
      "  -2.71304369e-01  3.02366972e-01 -2.96890318e-01 -5.44056177e-01\n",
      "   9.39824283e-02 -1.05612122e-01  9.23461616e-02  5.04346788e-02\n",
      "   2.01043934e-01 -5.52764498e-02 -3.73398280e-03 -1.99091107e-01\n",
      "  -4.88896370e-01  5.52245915e-01 -2.11830422e-01  6.45608529e-02\n",
      "  -1.81081265e-01 -4.41145986e-01  2.91735411e-01 -3.52525085e-01\n",
      "   6.24299496e-02  4.37565744e-02  3.47053766e-01 -2.41071641e-01\n",
      "   1.16518646e-01  9.54146385e-02 -4.84337211e-01  1.03418604e-01\n",
      "   7.72634268e-01  9.10625011e-02  3.68250757e-02  2.02935338e-01\n",
      "  -4.43686664e-01 -3.99551213e-01 -1.64237246e-01 -2.68971436e-02\n",
      "  -6.58267587e-02 -2.50084758e-01  4.26578186e-02 -7.48932540e-01\n",
      "   1.24014430e-01  2.64127076e-01  5.13078794e-02 -7.50212371e-01\n",
      "   4.58223820e-01 -7.37324178e-01 -6.20966136e-01  3.20223838e-01\n",
      "   9.32946987e-03  1.65414721e-01  3.28273386e-01  5.95352173e-01\n",
      "   2.73968339e-01  1.88202530e-01 -2.22970471e-01 -1.78340241e-01\n",
      "   1.79598689e-01  4.92901206e-02 -6.77919984e-01  2.87939548e-01\n",
      "  -4.53784913e-01  3.82065356e-01  1.49090186e-01  4.52292442e-01\n",
      "  -1.44206405e-01 -2.79241234e-01 -2.26261169e-02 -1.83760092e-01\n",
      "   3.56880724e-01 -1.09630726e-01  4.02055979e-01  1.41058028e-01\n",
      "  -3.24183077e-01  5.38748577e-02 -2.29801625e-01  4.08930719e-01\n",
      "  -2.91627347e-02  2.45921701e-01  9.51660991e-01  1.58206874e-03\n",
      "  -1.50707765e-02  2.07374215e-01 -4.07695696e-02 -1.95256040e-01\n",
      "  -7.18447715e-02  4.80261445e-01 -7.12769151e-01  7.54501745e-02\n",
      "  -7.47966290e-01 -3.14942747e-01  8.55991170e-02 -1.99686398e-32\n",
      "   7.78563857e-01  2.08437681e-01  3.22549790e-01  3.30289125e-01\n",
      "   9.34340358e-02  1.28127962e-01  1.56278014e-01  5.93806207e-01\n",
      "  -3.97616386e-01 -3.76973718e-01  1.30660832e-01 -9.59799290e-01\n",
      "  -4.97969627e-01  3.42510641e-01 -3.33355844e-01  2.34085560e-01\n",
      "  -8.87627825e-02  7.93836080e-03  2.70089470e-02 -3.32876861e-01\n",
      "  -4.91683215e-01  4.17615116e-01 -2.97478139e-01  3.38271201e-01\n",
      "  -2.10301504e-01 -1.27828121e-01  1.23206280e-01 -2.45698854e-01\n",
      "   3.48895043e-01  6.99716508e-02 -1.82150453e-01  4.66470659e-01\n",
      "   1.59056112e-02 -9.87024158e-02  3.43050182e-01 -3.03579479e-01\n",
      "  -7.78577209e-01 -5.23034513e-01  3.43702316e-01  6.51462078e-01\n",
      "  -2.66398668e-01  3.01201463e-01 -4.16393965e-01  7.68025732e-03\n",
      "  -4.72020000e-01  3.30353200e-01  9.56297666e-02  5.14382184e-01\n",
      "   3.12695116e-01  6.92269325e-01 -1.11529499e-01  3.63885015e-01\n",
      "   5.42942941e-01 -1.84681058e-01  4.67732608e-01  1.47123754e-01\n",
      "   1.10222250e-01 -5.54479957e-01  1.52521491e-01  1.64804712e-01\n",
      "  -6.98410124e-02  1.26842332e+00 -5.81115305e-01  6.14380717e-01\n",
      "  -5.15272141e-01  3.58716190e-01  3.96671295e-01 -4.39071879e-02\n",
      "   3.40114415e-01 -1.39681369e-01 -4.30148125e-01 -2.43695647e-01\n",
      "   3.48203748e-01  7.18813092e-02 -5.92494726e-01  7.67649710e-02\n",
      "  -5.82486153e-01 -3.73642743e-02 -3.74155134e-01  3.97601694e-01\n",
      "  -2.74243414e-01  5.24627805e-01 -6.19001500e-02 -2.77802497e-01\n",
      "  -1.36982083e-01 -2.49723792e-01 -7.19203830e-01  1.73917919e-01\n",
      "   3.56934726e-01  7.05722809e-01 -3.35036606e-01 -3.78314227e-01\n",
      "   1.69843912e-01  1.21536754e-01 -1.43665478e-01  6.62549097e-33\n",
      "  -1.88410267e-01 -1.79216236e-01 -3.27498168e-01 -4.67656702e-01\n",
      "  -4.78320420e-01 -4.59656954e-01 -4.10295099e-01 -2.48302817e-02\n",
      "   5.10277629e-01  1.15021728e-01 -4.59278435e-01 -2.96588801e-02\n",
      "   1.35869220e-01  7.58282095e-02 -4.23829965e-02 -1.49227783e-01\n",
      "  -2.18795277e-02 -3.96594584e-01 -2.38086700e-01 -9.46168154e-02\n",
      "   3.59402895e-01 -6.61901757e-02  7.26240128e-02  1.20842628e-01\n",
      "   1.64869368e-01 -6.00806996e-02  3.10356706e-01  5.16668975e-01\n",
      "  -4.40195531e-01 -3.02612841e-01 -1.54869080e-01 -5.49335837e-01\n",
      "   1.09745145e-01 -2.58160532e-01 -1.39287889e-01  2.08590001e-01\n",
      "   4.10616338e-01 -1.75251335e-01  2.45831832e-02  7.65828639e-02\n",
      "   1.74796671e-01  1.01380847e-01  2.65198588e-01  6.08755946e-01\n",
      "  -1.21577904e-01  7.26728439e-02 -8.50640163e-02  1.18345499e-01\n",
      "  -1.20174870e-01 -1.58842638e-01 -5.13394177e-01 -4.15771734e-03\n",
      "   5.34372404e-02 -3.48031700e-01  3.34732533e-01  2.07943246e-02\n",
      "   5.02868555e-02 -4.39445257e-01  5.85656106e-01  9.80268568e-02\n",
      "  -1.00894168e-01  1.31876886e-01  3.89970481e-01 -3.80436063e-01\n",
      "  -9.19242203e-02  1.90872461e-01 -1.22512311e-01  3.15130949e-01\n",
      "   5.64644597e-02 -5.12379482e-02  7.20963180e-01 -4.02975202e-01\n",
      "  -2.98554208e-02  1.32875349e-02 -5.68854988e-01  1.21279523e-01\n",
      "  -3.44594419e-01 -2.53140986e-01 -1.10756591e-01  1.06948197e-01\n",
      "   1.34459492e-02 -5.11296354e-02  3.53710592e-01  4.77074951e-01\n",
      "  -4.34023470e-01  1.50401831e-01  8.99175368e-03 -1.09861158e-01\n",
      "   2.82292217e-01  3.63044888e-02  1.11119114e-01  7.03337491e-02\n",
      "   7.58506298e-01  5.93872145e-02 -3.69273752e-01 -9.51623775e-08\n",
      "  -3.72752309e-01 -2.29021236e-01 -1.51929766e-01 -4.43997085e-01\n",
      "   2.12015808e-01  1.09953009e-01  2.65913486e-01  1.62566513e-01\n",
      "   5.63326836e-01  2.56958961e-01  2.13422716e-01 -3.57122123e-01\n",
      "   3.45990628e-01 -1.21774904e-01  4.72459078e-01 -5.60791433e-01\n",
      "   6.02939725e-01  7.30511844e-01 -2.25871772e-01 -5.24791032e-02\n",
      "   1.06643796e-01  1.18269086e-01  8.69586468e-02  1.17782205e-02\n",
      "  -1.76470965e-01 -2.64613807e-01  3.89132917e-01 -8.71616229e-02\n",
      "  -3.64479393e-01  6.74850166e-01 -3.69174212e-01  4.54441249e-01\n",
      "  -1.04687437e-01 -2.66827624e-02 -5.28667569e-02 -1.81045696e-01\n",
      "   4.80777591e-01 -2.78065324e-01 -2.27497160e-01 -1.70223042e-01\n",
      "  -3.46464813e-01  8.21083188e-01  1.69252694e-01  2.64788151e-01\n",
      "   6.63824797e-01  5.82772307e-03  5.90983033e-01 -1.70093745e-01\n",
      "  -6.61779046e-02 -1.64810240e-01 -1.10490131e-03  2.72203684e-01\n",
      "   4.45917368e-01  2.03468561e-01  1.19628340e-01 -2.95028687e-01\n",
      "  -7.50305206e-02 -2.02978060e-01 -4.71218765e-01 -1.89690948e-01\n",
      "   2.95642018e-01 -7.63207674e-02  7.06452072e-01  9.39030275e-02]], shape=(1, 384), dtype=float32)\n"
     ]
    }
   ],
   "source": [
    "preference_embedding = tokenizer(list(preference), padding=True, truncation=True, return_tensors=\"tf\")\n",
    "\n",
    "preference_output = model(**preference_embedding)\n",
    "preference_embedding = tf.reduce_mean(preference_output.last_hidden_state, axis=1)\n",
    "\n",
    "print(preference_embedding)"
   ]
  },
  {
   "cell_type": "code",
   "execution_count": 15,
   "metadata": {},
   "outputs": [
    {
     "name": "stdout",
     "output_type": "stream",
     "text": [
      "tf.Tensor(\n",
      "[[-0.2821684   0.17624943 -0.17334244 ... -0.22395012 -0.37560448\n",
      "   0.08452722]\n",
      " [-0.42910144  0.08270818 -0.07904025 ...  0.435364    0.37753874\n",
      "  -0.24304257]\n",
      " [-0.3762169   0.61999106 -0.2830522  ...  0.3662709   0.09408029\n",
      "   0.32485762]\n",
      " ...\n",
      " [-0.09205972  0.31469434  0.24819134 ... -0.0672051  -0.02212937\n",
      "   0.07603661]\n",
      " [-0.09205972  0.31469434  0.24819134 ... -0.0672051  -0.02212937\n",
      "   0.07603661]\n",
      " [-0.34301218  0.00452676 -0.4503737  ...  0.40050817  0.27370155\n",
      "  -0.18284445]], shape=(102, 384), dtype=float32)\n"
     ]
    }
   ],
   "source": [
    "user_data_text_embedding = tokenizer(list(user_data_text), padding=True, truncation=True, return_tensors=\"tf\")\n",
    "\n",
    "user_data_text_output = model(**user_data_text_embedding)\n",
    "user_data_text_embedding = tf.reduce_mean(user_data_text_output.last_hidden_state, axis=1)\n",
    "\n",
    "print(user_data_text_embedding)"
   ]
  },
  {
   "cell_type": "markdown",
   "metadata": {},
   "source": [
    "### Searching Similarity\n",
    "I'm using cosine similarity to searching the similarity between both vectorized embedding text"
   ]
  },
  {
   "cell_type": "code",
   "execution_count": 19,
   "metadata": {},
   "outputs": [],
   "source": [
    "similarities = cosine_similarity(job_title_embedding, preference_embedding)"
   ]
  },
  {
   "cell_type": "code",
   "execution_count": 20,
   "metadata": {},
   "outputs": [],
   "source": [
    "top_10_indices = np.argsort(similarities, axis=1)[:, -10:]"
   ]
  },
  {
   "cell_type": "code",
   "execution_count": 25,
   "metadata": {},
   "outputs": [
    {
     "name": "stdout",
     "output_type": "stream",
     "text": [
      "1. Index: 927, Similarity: [0.4563548]\n",
      "Company                         Djalaluddin Pane Foundation (DPF)\n",
      "Job_title                                     Editor Video & Film\n",
      "Location         Medan Selayang, Medan, Sumatera Utara, Indonesia\n",
      "Salary                          Perusahaan tidak menampilkan gaji\n",
      "Work Type                                             Penuh Waktu\n",
      "Skills          Graphic Design, Fotografi & Videografi, Video ...\n",
      "Descriptions                                                  NaN\n",
      "Links           https://glints.com/id/opportunities/jobs/edito...\n",
      "Name: 927, dtype: object\n",
      "2. Index: 287, Similarity: [0.438792]\n",
      "Company                                                 Ex1st Com\n",
      "Job_title                         video editor dan konten kreator\n",
      "Location            Medan Barat, Medan, Sumatera Utara, Indonesia\n",
      "Salary                                            Rp1,5jt-Rp3,5jt\n",
      "Work Type                                             Penuh Waktu\n",
      "Skills                                                        NaN\n",
      "Descriptions                                                  NaN\n",
      "Links           https://glints.com/id/opportunities/jobs/video...\n",
      "Name: 287, dtype: object\n",
      "3. Index: 283, Similarity: [0.438792]\n",
      "Company                                                 Ex1st Com\n",
      "Job_title                         video editor dan konten kreator\n",
      "Location            Medan Barat, Medan, Sumatera Utara, Indonesia\n",
      "Salary                                            Rp1,5jt-Rp3,5jt\n",
      "Work Type                                             Penuh Waktu\n",
      "Skills          Photo & Video Editing, Content Creator, Copywr...\n",
      "Descriptions                                                  NaN\n",
      "Links           https://glints.com/id/opportunities/jobs/video...\n",
      "Name: 283, dtype: object\n",
      "4. Index: 282, Similarity: [0.438792]\n",
      "Company                                                 Ex1st Com\n",
      "Job_title                         video editor dan konten kreator\n",
      "Location            Medan Barat, Medan, Sumatera Utara, Indonesia\n",
      "Salary                                            Rp1,5jt-Rp3,5jt\n",
      "Work Type                                             Penuh Waktu\n",
      "Skills                                                        NaN\n",
      "Descriptions                                                  NaN\n",
      "Links           https://glints.com/id/opportunities/jobs/video...\n",
      "Name: 282, dtype: object\n",
      "5. Index: 288, Similarity: [0.438792]\n",
      "Company                                                 Ex1st Com\n",
      "Job_title                         video editor dan konten kreator\n",
      "Location            Medan Barat, Medan, Sumatera Utara, Indonesia\n",
      "Salary                                            Rp1,5jt-Rp3,5jt\n",
      "Work Type                                             Penuh Waktu\n",
      "Skills                                                        NaN\n",
      "Descriptions                                                  NaN\n",
      "Links           https://glints.com/id/opportunities/jobs/video...\n",
      "Name: 288, dtype: object\n",
      "6. Index: 1818, Similarity: [0.4096213]\n",
      "Company                                                    Kasual\n",
      "Job_title       Product and Editorial Photographer/Videographe...\n",
      "Location        Mampang Prapatan, Jakarta Selatan, DKI Jakarta...\n",
      "Salary                          Perusahaan tidak menampilkan gaji\n",
      "Work Type                                                  Magang\n",
      "Skills            Photo & Video Editing, Photography, Videography\n",
      "Descriptions    Prepare all the needs for the indoor or outdoo...\n",
      "Links           https://glints.com/id/opportunities/jobs/produ...\n",
      "Name: 1818, dtype: object\n",
      "7. Index: 2070, Similarity: [0.4014732]\n",
      "Company                                             derma beautee\n",
      "Job_title                 Content Creator (FOTO/VIDEO dan GRAFIS)\n",
      "Location                 Lowokwaru, Malang, Jawa Timur, Indonesia\n",
      "Salary                          Perusahaan tidak menampilkan gaji\n",
      "Work Type                                                 Kontrak\n",
      "Skills          Analitycal Thinking, Reporting, Content Creato...\n",
      "Descriptions                                                  NaN\n",
      "Links           https://glints.com/id/opportunities/jobs/conte...\n",
      "Name: 2070, dtype: object\n",
      "8. Index: 876, Similarity: [0.40129954]\n",
      "Company                                                Virallo.id\n",
      "Job_title                                 Video Editor Internship\n",
      "Location        Kebayoran Baru, Jakarta Selatan, DKI Jakarta, ...\n",
      "Salary                                                    Rp1,5jt\n",
      "Work Type                                                  Magang\n",
      "Skills                                                        NaN\n",
      "Descriptions    Support the creative team with brainstorming, ...\n",
      "Links           https://glints.com/id/opportunities/jobs/video...\n",
      "Name: 876, dtype: object\n",
      "9. Index: 974, Similarity: [0.4006227]\n",
      "Company                PT Stainless Stell Prima Valvemaju Bersama\n",
      "Job_title                                   Secretary to Director\n",
      "Location                Cikupa, Kab. Tangerang, Banten, Indonesia\n",
      "Salary                          Perusahaan tidak menampilkan gaji\n",
      "Work Type                                             Penuh Waktu\n",
      "Skills          Good Communication Skills, Time Management, Ad...\n",
      "Descriptions    Provide personal administrative support to the...\n",
      "Links           https://glints.com/id/opportunities/jobs/secre...\n",
      "Name: 974, dtype: object\n",
      "10. Index: 198, Similarity: [0.39804512]\n",
      "Company                                           Hyundai Bintaro\n",
      "Job_title                                         Sales Executive\n",
      "Location        Pondok Aren, Tangerang Selatan, Banten, Indonesia\n",
      "Salary                          Perusahaan tidak menampilkan gaji\n",
      "Work Type                                             Penuh Waktu\n",
      "Skills            Target Oriented, Communication, Sales Marketing\n",
      "Descriptions    Pria/Wanita maksimal 20-32 tahun, Pendidikan m...\n",
      "Links           https://glints.com/id/opportunities/jobs/sales...\n",
      "Name: 198, dtype: object\n"
     ]
    }
   ],
   "source": [
    "top_10_indices = np.argsort(similarities.flatten())[-10:][::-1]\n",
    "top_10_values = similarities[top_10_indices]\n",
    "\n",
    "# Menampilkan hasil\n",
    "for i, (index, value) in enumerate(zip(top_10_indices, top_10_values)):\n",
    "    print(f\"{i+1}. Index: {index}, Similarity: {value}\\n{vacancy_data.iloc[index]}\")"
   ]
  },
  {
   "cell_type": "code",
   "execution_count": null,
   "metadata": {},
   "outputs": [],
   "source": []
  }
 ],
 "metadata": {
  "kernelspec": {
   "display_name": "metal",
   "language": "python",
   "name": "python3"
  },
  "language_info": {
   "codemirror_mode": {
    "name": "ipython",
    "version": 3
   },
   "file_extension": ".py",
   "mimetype": "text/x-python",
   "name": "python",
   "nbconvert_exporter": "python",
   "pygments_lexer": "ipython3",
   "version": "3.10.12"
  }
 },
 "nbformat": 4,
 "nbformat_minor": 2
}
