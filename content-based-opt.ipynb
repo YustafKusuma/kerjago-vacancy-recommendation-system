{
 "cells": [
  {
   "cell_type": "code",
   "execution_count": 2,
   "metadata": {},
   "outputs": [],
   "source": [
    "import tensorflow as tf\n",
    "import numpy as np\n",
    "import pandas as pd\n",
    "from transformers import BertTokenizer, TFBertModel\n",
    "from sklearn.metrics.pairwise import cosine_similarity"
   ]
  },
  {
   "cell_type": "code",
   "execution_count": 3,
   "metadata": {},
   "outputs": [
    {
     "name": "stderr",
     "output_type": "stream",
     "text": [
      "2023-11-20 21:16:09.978056: I metal_plugin/src/device/metal_device.cc:1154] Metal device set to: Apple M1\n",
      "2023-11-20 21:16:09.978093: I metal_plugin/src/device/metal_device.cc:296] systemMemory: 8.00 GB\n",
      "2023-11-20 21:16:09.978105: I metal_plugin/src/device/metal_device.cc:313] maxCacheSize: 2.67 GB\n",
      "2023-11-20 21:16:09.978403: I tensorflow/core/common_runtime/pluggable_device/pluggable_device_factory.cc:306] Could not identify NUMA node of platform GPU ID 0, defaulting to 0. Your kernel may not have been built with NUMA support.\n",
      "2023-11-20 21:16:09.978711: I tensorflow/core/common_runtime/pluggable_device/pluggable_device_factory.cc:272] Created TensorFlow device (/job:localhost/replica:0/task:0/device:GPU:0 with 0 MB memory) -> physical PluggableDevice (device: 0, name: METAL, pci bus id: <undefined>)\n",
      "All model checkpoint layers were used when initializing TFBertModel.\n",
      "\n",
      "All the layers of TFBertModel were initialized from the model checkpoint at sentence-transformers/all-MiniLM-L6-v2.\n",
      "If your task is similar to the task the model of the checkpoint was trained on, you can already use TFBertModel for predictions without further training.\n"
     ]
    }
   ],
   "source": [
    "tokenizer = BertTokenizer.from_pretrained(\"sentence-transformers/all-MiniLM-L6-v2\")\n",
    "model = TFBertModel.from_pretrained(\"sentence-transformers/all-MiniLM-L6-v2\")"
   ]
  },
  {
   "cell_type": "markdown",
   "metadata": {},
   "source": [
    "### Vacancy Data"
   ]
  },
  {
   "cell_type": "code",
   "execution_count": 4,
   "metadata": {},
   "outputs": [],
   "source": [
    "vacancy_data = pd.read_csv('data/job_list_all.csv')"
   ]
  },
  {
   "cell_type": "markdown",
   "metadata": {},
   "source": [
    "### Selected Features from the Vacancy Data\n",
    "Selected Feature from Vacancy Data that will be used in the recommendation system:\n",
    "- Job Title\n",
    "- Skills Requiered"
   ]
  },
  {
   "cell_type": "code",
   "execution_count": 7,
   "metadata": {},
   "outputs": [],
   "source": [
    "job_title = vacancy_data['Job_title']\n",
    "skill_required = vacancy_data['Skills'].fillna('')"
   ]
  },
  {
   "cell_type": "code",
   "execution_count": 13,
   "metadata": {},
   "outputs": [],
   "source": [
    "vacancy_data_features = vacancy_data[['Job_title', 'Skills']].fillna('')"
   ]
  },
  {
   "cell_type": "code",
   "execution_count": 15,
   "metadata": {},
   "outputs": [
    {
     "data": {
      "text/html": [
       "<div>\n",
       "<style scoped>\n",
       "    .dataframe tbody tr th:only-of-type {\n",
       "        vertical-align: middle;\n",
       "    }\n",
       "\n",
       "    .dataframe tbody tr th {\n",
       "        vertical-align: top;\n",
       "    }\n",
       "\n",
       "    .dataframe thead th {\n",
       "        text-align: right;\n",
       "    }\n",
       "</style>\n",
       "<table border=\"1\" class=\"dataframe\">\n",
       "  <thead>\n",
       "    <tr style=\"text-align: right;\">\n",
       "      <th></th>\n",
       "      <th>Job_title</th>\n",
       "      <th>Skills</th>\n",
       "    </tr>\n",
       "  </thead>\n",
       "  <tbody>\n",
       "    <tr>\n",
       "      <th>0</th>\n",
       "      <td>Perawat</td>\n",
       "      <td>Dapat Berkomunikasi Secara Baik, Berorientasi ...</td>\n",
       "    </tr>\n",
       "    <tr>\n",
       "      <th>1</th>\n",
       "      <td>Sales Sosial Media</td>\n",
       "      <td></td>\n",
       "    </tr>\n",
       "    <tr>\n",
       "      <th>2</th>\n",
       "      <td>Fashion Designer</td>\n",
       "      <td>Trend Forecasting, Pattern Making, Fashion Sty...</td>\n",
       "    </tr>\n",
       "    <tr>\n",
       "      <th>3</th>\n",
       "      <td>RPA Software Developer (UIPATH)</td>\n",
       "      <td></td>\n",
       "    </tr>\n",
       "    <tr>\n",
       "      <th>4</th>\n",
       "      <td>SEO Specialist</td>\n",
       "      <td>Search Engine Optimization (SEO), Seo/sem, SEO...</td>\n",
       "    </tr>\n",
       "    <tr>\n",
       "      <th>...</th>\n",
       "      <td>...</td>\n",
       "      <td>...</td>\n",
       "    </tr>\n",
       "    <tr>\n",
       "      <th>2965</th>\n",
       "      <td>Sales Executive</td>\n",
       "      <td></td>\n",
       "    </tr>\n",
       "    <tr>\n",
       "      <th>2966</th>\n",
       "      <td>Drafter</td>\n",
       "      <td>2D &amp; 3D Drafter, Construction, Arsitek &amp; Draft...</td>\n",
       "    </tr>\n",
       "    <tr>\n",
       "      <th>2967</th>\n",
       "      <td>3D Animator</td>\n",
       "      <td>Character Animation, Target Oriented, 3D Animator</td>\n",
       "    </tr>\n",
       "    <tr>\n",
       "      <th>2968</th>\n",
       "      <td>Crew Outlet</td>\n",
       "      <td>Jujur, teliti, dan rajin, Bekerja Sama Secara ...</td>\n",
       "    </tr>\n",
       "    <tr>\n",
       "      <th>2969</th>\n",
       "      <td>Senior Transfer Pricing Consultant</td>\n",
       "      <td>Transfer Pricing Tax, International Tax, Trans...</td>\n",
       "    </tr>\n",
       "  </tbody>\n",
       "</table>\n",
       "<p>2970 rows × 2 columns</p>\n",
       "</div>"
      ],
      "text/plain": [
       "                               Job_title  \\\n",
       "0                                Perawat   \n",
       "1                     Sales Sosial Media   \n",
       "2                       Fashion Designer   \n",
       "3        RPA Software Developer (UIPATH)   \n",
       "4                         SEO Specialist   \n",
       "...                                  ...   \n",
       "2965                     Sales Executive   \n",
       "2966                             Drafter   \n",
       "2967                         3D Animator   \n",
       "2968                         Crew Outlet   \n",
       "2969  Senior Transfer Pricing Consultant   \n",
       "\n",
       "                                                 Skills  \n",
       "0     Dapat Berkomunikasi Secara Baik, Berorientasi ...  \n",
       "1                                                        \n",
       "2     Trend Forecasting, Pattern Making, Fashion Sty...  \n",
       "3                                                        \n",
       "4     Search Engine Optimization (SEO), Seo/sem, SEO...  \n",
       "...                                                 ...  \n",
       "2965                                                     \n",
       "2966  2D & 3D Drafter, Construction, Arsitek & Draft...  \n",
       "2967  Character Animation, Target Oriented, 3D Animator  \n",
       "2968  Jujur, teliti, dan rajin, Bekerja Sama Secara ...  \n",
       "2969  Transfer Pricing Tax, International Tax, Trans...  \n",
       "\n",
       "[2970 rows x 2 columns]"
      ]
     },
     "execution_count": 15,
     "metadata": {},
     "output_type": "execute_result"
    }
   ],
   "source": [
    "vacancy_data_features"
   ]
  },
  {
   "cell_type": "code",
   "execution_count": null,
   "metadata": {},
   "outputs": [],
   "source": []
  }
 ],
 "metadata": {
  "kernelspec": {
   "display_name": "metal",
   "language": "python",
   "name": "python3"
  },
  "language_info": {
   "codemirror_mode": {
    "name": "ipython",
    "version": 3
   },
   "file_extension": ".py",
   "mimetype": "text/x-python",
   "name": "python",
   "nbconvert_exporter": "python",
   "pygments_lexer": "ipython3",
   "version": "3.10.12"
  }
 },
 "nbformat": 4,
 "nbformat_minor": 2
}
